{
 "cells": [
  {
   "cell_type": "markdown",
   "id": "a9f75b8e-9aca-4984-9f38-fd682c1ae316",
   "metadata": {},
   "source": [
    "# Hifz Calculator\n",
    "\n",
    "قال رسول الله صلى الله عليه وسلم: خيركم من تعلم القرآن وعلمه"
   ]
  },
  {
   "cell_type": "code",
   "execution_count": 1,
   "id": "25cd94b5-74ce-457b-acac-5cea153067a0",
   "metadata": {},
   "outputs": [
    {
     "data": {
      "application/vnd.jupyter.widget-view+json": {
       "model_id": "72b947a9cefe496abc06efb8b11d7587",
       "version_major": 2,
       "version_minor": 0
      },
      "text/plain": [
       "VBox(children=(Tab(children=(VBox(children=(HTML(value='', description='Input:\\n\\tStart date: Date you have st…"
      ]
     },
     "execution_count": 1,
     "metadata": {},
     "output_type": "execute_result"
    }
   ],
   "source": [
    "import hifzcalculator as hc\n",
    "hc.ui()"
   ]
  },
  {
   "cell_type": "markdown",
   "id": "7fbd031e-074a-4619-b9dd-f1997ae412a1",
   "metadata": {},
   "source": [
    "### Description\n",
    "#### Estimated Completion\n",
    "Input:\n",
    "- Start date: Date you have started/will start memorizing\n",
    "- Number of ajza memorized: Number of ajza memorized prior to start date\n",
    "- Pages/day or lines/day: Number of pages or line per day you hope to memorize, inshaAllah\n",
    "- Review days per week: How many days per week you will not be memorizing (max 6)\n",
    "\n",
    "Calculates estimated completion date.\n",
    "\n",
    "#### pages per day\n",
    "Input:\n",
    "- Start date: Date you have started/will start memorizing\n",
    "- End date: Date you hope to finish by\n",
    "- Review days per week: How many days per week you will not be memorizing (max 6)\n",
    "\n",
    "Calculates how many pages you will need to memorize every day to finish by that date.\n",
    "\n",
    "#### Note\n",
    "Assumptions: 15 liner Quran with 600 pages. Most 15 liner Qurans will be 604 pages, but this includes front matter and Al-Fatiha and the first 5 ayaat of Al-Baqarah, so 600 pages is a good assumption.\n",
    "\n",
    "Decimals are accepted. Examples:\n",
    "- You already know al-Baqarah. You can input 2.4 to 'number of ajza memorized' (first 2 juz + 8 pages of third = $2 + \\frac{8}{20} = 2.4$).\n",
    "- You are taking 5 days off memorizing every month, you can input 1.25 to 'review days per week' ($\\frac{\\text{5 days}}{\\text{month}} = \\frac{\\text{5 days}}{\\text{4 weeks}} = 1.25$"
   ]
  }
 ],
 "metadata": {
  "kernelspec": {
   "display_name": "Python 3 (ipykernel)",
   "language": "python",
   "name": "python3"
  },
  "language_info": {
   "codemirror_mode": {
    "name": "ipython",
    "version": 3
   },
   "file_extension": ".py",
   "mimetype": "text/x-python",
   "name": "python",
   "nbconvert_exporter": "python",
   "pygments_lexer": "ipython3",
   "version": "3.8.19"
  }
 },
 "nbformat": 4,
 "nbformat_minor": 5
}
